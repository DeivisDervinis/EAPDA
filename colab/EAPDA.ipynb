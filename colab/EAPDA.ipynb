{
  "nbformat": 4,
  "nbformat_minor": 0,
  "metadata": {
    "kernelspec": {
      "display_name": "Python 3",
      "language": "python",
      "name": "python3"
    },
    "language_info": {
      "codemirror_mode": {
        "name": "ipython",
        "version": 3
      },
      "file_extension": ".py",
      "mimetype": "text/x-python",
      "name": "python",
      "nbconvert_exporter": "python",
      "pygments_lexer": "ipython3",
      "version": "3.6.12"
    },
    "colab": {
      "name": "EAPDA.ipynb",
      "provenance": [],
      "toc_visible": true,
      "include_colab_link": true
    },
    "accelerator": "GPU"
  },
  "cells": [
    {
      "cell_type": "markdown",
      "metadata": {
        "id": "view-in-github",
        "colab_type": "text"
      },
      "source": [
        "<a href=\"https://colab.research.google.com/github/DeivisDervinis/EAPDA/blob/main/colab/EAPDA.ipynb\" target=\"_parent\"><img src=\"https://colab.research.google.com/assets/colab-badge.svg\" alt=\"Open In Colab\"/></a>"
      ]
    },
    {
      "cell_type": "markdown",
      "metadata": {
        "id": "6TX-hk1ZKy8-"
      },
      "source": [
        "# Step 1. Install required libraries"
      ]
    },
    {
      "cell_type": "code",
      "metadata": {
        "colab": {
          "base_uri": "https://localhost:8080/"
        },
        "id": "krDhb498o2Jo",
        "outputId": "f2ffe1a7-b43d-4bdd-d402-9201100340f8"
      },
      "source": [
        "!apt install libasound2-dev portaudio19-dev libportaudio2 libportaudiocpp0 ffmpeg\n",
        "!pip install PyAudio\n",
        "!pip install pydub"
      ],
      "execution_count": 1,
      "outputs": [
        {
          "output_type": "stream",
          "text": [
            "Reading package lists... Done\n",
            "Building dependency tree       \n",
            "Reading state information... Done\n",
            "libasound2-dev is already the newest version (1.1.3-5ubuntu0.5).\n",
            "ffmpeg is already the newest version (7:3.4.8-0ubuntu0.2).\n",
            "Suggested packages:\n",
            "  portaudio19-doc\n",
            "The following NEW packages will be installed:\n",
            "  libportaudio2 libportaudiocpp0 portaudio19-dev\n",
            "0 upgraded, 3 newly installed, 0 to remove and 30 not upgraded.\n",
            "Need to get 184 kB of archives.\n",
            "After this operation, 891 kB of additional disk space will be used.\n",
            "Get:1 http://archive.ubuntu.com/ubuntu bionic/universe amd64 libportaudio2 amd64 19.6.0-1 [64.6 kB]\n",
            "Get:2 http://archive.ubuntu.com/ubuntu bionic/universe amd64 libportaudiocpp0 amd64 19.6.0-1 [15.1 kB]\n",
            "Get:3 http://archive.ubuntu.com/ubuntu bionic/universe amd64 portaudio19-dev amd64 19.6.0-1 [104 kB]\n",
            "Fetched 184 kB in 2s (109 kB/s)\n",
            "Selecting previously unselected package libportaudio2:amd64.\n",
            "(Reading database ... 160980 files and directories currently installed.)\n",
            "Preparing to unpack .../libportaudio2_19.6.0-1_amd64.deb ...\n",
            "Unpacking libportaudio2:amd64 (19.6.0-1) ...\n",
            "Selecting previously unselected package libportaudiocpp0:amd64.\n",
            "Preparing to unpack .../libportaudiocpp0_19.6.0-1_amd64.deb ...\n",
            "Unpacking libportaudiocpp0:amd64 (19.6.0-1) ...\n",
            "Selecting previously unselected package portaudio19-dev:amd64.\n",
            "Preparing to unpack .../portaudio19-dev_19.6.0-1_amd64.deb ...\n",
            "Unpacking portaudio19-dev:amd64 (19.6.0-1) ...\n",
            "Setting up libportaudio2:amd64 (19.6.0-1) ...\n",
            "Setting up libportaudiocpp0:amd64 (19.6.0-1) ...\n",
            "Setting up portaudio19-dev:amd64 (19.6.0-1) ...\n",
            "Processing triggers for libc-bin (2.27-3ubuntu1.2) ...\n",
            "/sbin/ldconfig.real: /usr/local/lib/python3.7/dist-packages/ideep4py/lib/libmkldnn.so.0 is not a symbolic link\n",
            "\n",
            "Collecting PyAudio\n",
            "  Downloading https://files.pythonhosted.org/packages/ab/42/b4f04721c5c5bfc196ce156b3c768998ef8c0ae3654ed29ea5020c749a6b/PyAudio-0.2.11.tar.gz\n",
            "Building wheels for collected packages: PyAudio\n",
            "  Building wheel for PyAudio (setup.py) ... \u001b[?25l\u001b[?25hdone\n",
            "  Created wheel for PyAudio: filename=PyAudio-0.2.11-cp37-cp37m-linux_x86_64.whl size=52583 sha256=8e7fe64fa056442e747aab41e73651a6d03b1e2a3eccbc51e6b095c6d016e0c8\n",
            "  Stored in directory: /root/.cache/pip/wheels/f4/a8/a4/292214166c2917890f85b2f72a8e5f13e1ffa527c4200dcede\n",
            "Successfully built PyAudio\n",
            "Installing collected packages: PyAudio\n",
            "Successfully installed PyAudio-0.2.11\n",
            "Collecting pydub\n",
            "  Downloading https://files.pythonhosted.org/packages/a6/53/d78dc063216e62fc55f6b2eebb447f6a4b0a59f55c8406376f76bf959b08/pydub-0.25.1-py2.py3-none-any.whl\n",
            "Installing collected packages: pydub\n",
            "Successfully installed pydub-0.25.1\n"
          ],
          "name": "stdout"
        }
      ]
    },
    {
      "cell_type": "markdown",
      "metadata": {
        "id": "ocXbPKOdK-yQ"
      },
      "source": [
        "# Step 2. Create models folder and download the latest emotion recognition model"
      ]
    },
    {
      "cell_type": "code",
      "metadata": {
        "colab": {
          "base_uri": "https://localhost:8080/"
        },
        "id": "Bcc3P4b_q2Xe",
        "outputId": "0b4fbd80-d019-4e77-9033-915f7809ae43"
      },
      "source": [
        "!mkdir models\n",
        "!mkdir working\n",
        "!wget http://github.com/DeivisDervinis/EAPDA/raw/main/colab/models/audio.hdf5 -O models/audio.hdf5\n",
        "!wget http://github.com/DeivisDervinis/EAPDA/raw/main/colab/models/testfile.json -O models/testfile.json\n"
      ],
      "execution_count": 2,
      "outputs": [
        {
          "output_type": "stream",
          "text": [
            "--2021-03-23 02:35:49--  http://github.com/DeivisDervinis/EAPDA/raw/main/colab/models/audio.hdf5\n",
            "Resolving github.com (github.com)... 52.69.186.44\n",
            "Connecting to github.com (github.com)|52.69.186.44|:80... connected.\n",
            "HTTP request sent, awaiting response... 301 Moved Permanently\n",
            "Location: https://github.com/DeivisDervinis/EAPDA/raw/main/colab/models/audio.hdf5 [following]\n",
            "--2021-03-23 02:35:49--  https://github.com/DeivisDervinis/EAPDA/raw/main/colab/models/audio.hdf5\n",
            "Connecting to github.com (github.com)|52.69.186.44|:443... connected.\n",
            "HTTP request sent, awaiting response... 302 Found\n",
            "Location: https://raw.githubusercontent.com/DeivisDervinis/EAPDA/main/colab/models/audio.hdf5 [following]\n",
            "--2021-03-23 02:35:49--  https://raw.githubusercontent.com/DeivisDervinis/EAPDA/main/colab/models/audio.hdf5\n",
            "Resolving raw.githubusercontent.com (raw.githubusercontent.com)... 185.199.108.133, 185.199.110.133, 185.199.111.133, ...\n",
            "Connecting to raw.githubusercontent.com (raw.githubusercontent.com)|185.199.108.133|:443... connected.\n",
            "HTTP request sent, awaiting response... 200 OK\n",
            "Length: 5368560 (5.1M) [application/octet-stream]\n",
            "Saving to: ‘models/audio.hdf5’\n",
            "\n",
            "models/audio.hdf5   100%[===================>]   5.12M  23.9MB/s    in 0.2s    \n",
            "\n",
            "2021-03-23 02:35:50 (23.9 MB/s) - ‘models/audio.hdf5’ saved [5368560/5368560]\n",
            "\n",
            "URL transformed to HTTPS due to an HSTS policy\n",
            "--2021-03-23 02:35:50--  https://github.com/DeivisDervinis/EAPDA/raw/main/colab/models/testfile.json\n",
            "Resolving github.com (github.com)... 52.69.186.44\n",
            "Connecting to github.com (github.com)|52.69.186.44|:443... connected.\n",
            "HTTP request sent, awaiting response... 302 Found\n",
            "Location: https://raw.githubusercontent.com/DeivisDervinis/EAPDA/main/colab/models/testfile.json [following]\n",
            "--2021-03-23 02:35:51--  https://raw.githubusercontent.com/DeivisDervinis/EAPDA/main/colab/models/testfile.json\n",
            "Resolving raw.githubusercontent.com (raw.githubusercontent.com)... 185.199.108.133, 185.199.110.133, 185.199.111.133, ...\n",
            "Connecting to raw.githubusercontent.com (raw.githubusercontent.com)|185.199.108.133|:443... connected.\n",
            "HTTP request sent, awaiting response... 200 OK\n",
            "Length: 336 [text/plain]\n",
            "Saving to: ‘models/testfile.json’\n",
            "\n",
            "models/testfile.jso 100%[===================>]     336  --.-KB/s    in 0s      \n",
            "\n",
            "2021-03-23 02:35:51 (17.4 MB/s) - ‘models/testfile.json’ saved [336/336]\n",
            "\n"
          ],
          "name": "stdout"
        }
      ]
    },
    {
      "cell_type": "markdown",
      "metadata": {
        "id": "QksFjwy8LHK9"
      },
      "source": [
        "# Step 3. Upload audio files for Emotion Recognition"
      ]
    },
    {
      "cell_type": "code",
      "metadata": {
        "colab": {
          "resources": {
            "http://localhost:8080/nbextensions/google.colab/files.js": {
              "data": "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",
              "ok": true,
              "headers": [
                [
                  "content-type",
                  "application/javascript"
                ]
              ],
              "status": 200,
              "status_text": ""
            }
          },
          "base_uri": "https://localhost:8080/",
          "height": 89
        },
        "id": "Fn0itlx7dCld",
        "outputId": "66fed0ef-3066-496d-d279-b1b37f90f83b"
      },
      "source": [
        "from google.colab import files\n",
        "\n",
        "# Library for allowing to upload files locally\n",
        "uploaded = files.upload()\n",
        "\n",
        "for fn in uploaded.keys():\n",
        "  print('User uploaded file \"{name}\" with length {length} bytes'.format(\n",
        "      name=fn, length=len(uploaded[fn])))\n",
        "\n",
        "uploaded_file_name = list(uploaded.keys())[0]\n"
      ],
      "execution_count": 59,
      "outputs": [
        {
          "output_type": "display_data",
          "data": {
            "text/html": [
              "\n",
              "     <input type=\"file\" id=\"files-cdd8931e-b801-4155-99f2-ffd4143504b7\" name=\"files[]\" multiple disabled\n",
              "        style=\"border:none\" />\n",
              "     <output id=\"result-cdd8931e-b801-4155-99f2-ffd4143504b7\">\n",
              "      Upload widget is only available when the cell has been executed in the\n",
              "      current browser session. Please rerun this cell to enable.\n",
              "      </output>\n",
              "      <script src=\"/nbextensions/google.colab/files.js\"></script> "
            ],
            "text/plain": [
              "<IPython.core.display.HTML object>"
            ]
          },
          "metadata": {
            "tags": []
          }
        },
        {
          "output_type": "stream",
          "text": [
            "Saving voice_recording_neutral.wav to voice_recording_neutral (3).wav\n",
            "User uploaded file \"voice_recording_neutral.wav\" with length 9986162 bytes\n"
          ],
          "name": "stdout"
        }
      ]
    },
    {
      "cell_type": "markdown",
      "metadata": {
        "id": "j08pOw9UNOzq"
      },
      "source": [
        "# Step 4. Import libraries"
      ]
    },
    {
      "cell_type": "code",
      "metadata": {
        "id": "9_Kuqv-inYtx"
      },
      "source": [
        "## Basics ##\n",
        "import time\n",
        "import os\n",
        "import numpy as np\n",
        "## Audio Preprocessing ##\n",
        "import pyaudio\n",
        "import wave\n",
        "import librosa\n",
        "from scipy.stats import zscore\n",
        "\n",
        "## Time Distributed CNN ##\n",
        "import tensorflow as tf\n",
        "from tensorflow.keras import backend as K\n",
        "from tensorflow.keras.models import Model\n",
        "from tensorflow.keras.layers import Input, Dense, Dropout, Activation, TimeDistributed\n",
        "from tensorflow.keras.layers import Conv2D, MaxPooling2D, BatchNormalization, Flatten\n",
        "from tensorflow.keras.layers import LSTM"
      ],
      "execution_count": 4,
      "outputs": []
    },
    {
      "cell_type": "markdown",
      "metadata": {
        "id": "sKhTchpvNWfv"
      },
      "source": [
        "# Step 5. Load code for Emotion Recognition"
      ]
    },
    {
      "cell_type": "code",
      "metadata": {
        "id": "0QA-VJtVnYt2"
      },
      "source": [
        "class speechEmotionRecognition:\n",
        "\n",
        "    ###\n",
        "    ##Voice recording function\n",
        "    ##\n",
        "\n",
        "    def __init__(self, subdir_model=None):\n",
        "\n",
        "        # Load prediction model\n",
        "        if subdir_model is not None:\n",
        "            self._model = self.build_model()\n",
        "            self._model.load_weights(subdir_model)\n",
        "\n",
        "        # Emotion encoding\n",
        "        self._emotion = {0:'Angry', 1:'Disgust', 2:'Fear', 3:'Happy', 4:'Neutral', 5:'Sad', 6:'Surprise'}\n",
        "\n",
        "\n",
        "    ### Computing Mel-Spectrogram\n",
        "    def mel_spectrogram(self, y, sr=16000, n_fft=512, win_length=256, hop_length=128, window='hamming', n_mels=128, fmax=4000):\n",
        "\n",
        "        # Compute spectogram\n",
        "        mel_spect = np.abs(librosa.stft(y, n_fft=n_fft, window=window, win_length=win_length, hop_length=hop_length)) ** 2\n",
        "\n",
        "        # Compute mel spectrogram\n",
        "        mel_spect = librosa.feature.melspectrogram(S=mel_spect, sr=sr, n_mels=n_mels, fmax=fmax)\n",
        "\n",
        "        # Compute log-mel spectrogram\n",
        "        mel_spect = librosa.power_to_db(mel_spect, ref=np.max)\n",
        "\n",
        "        return np.asarray(mel_spect)\n",
        "\n",
        "\n",
        "\n",
        "    # Audio framing\n",
        "    def frame(self, y, win_step=64, win_size=128):\n",
        "\n",
        "        # Number of frames\n",
        "        nb_frames = 1 + int((y.shape[2] - win_size) / win_step)\n",
        "\n",
        "        # Framming\n",
        "        frames = np.zeros((y.shape[0], nb_frames, y.shape[1], win_size)).astype(np.float16)\n",
        "        for t in range(nb_frames):\n",
        "            frames[:,t,:,:] = np.copy(y[:,:,(t * win_step):(t * win_step + win_size)]).astype(np.float16)\n",
        "\n",
        "        return frames\n",
        "\n",
        "\n",
        "    # Builds TDCNN\n",
        "    def build_model(self):\n",
        "\n",
        "        # Clear Keras session\n",
        "        K.clear_session()\n",
        "\n",
        "        # Define input\n",
        "        input_y = Input(shape=(3, 128, 128, 1), name='Input_MELSPECT')\n",
        "\n",
        "        # First LFLB (local feature learning block)\n",
        "        y = TimeDistributed(Conv2D(64, kernel_size=(3, 3), strides=(1, 1), padding='same'), name='Conv_1_MELSPECT')(input_y)\n",
        "        y = TimeDistributed(BatchNormalization(), name='BatchNorm_1_MELSPECT')(y)\n",
        "        y = TimeDistributed(Activation('elu'), name='Activ_1_MELSPECT')(y)\n",
        "        y = TimeDistributed(MaxPooling2D(pool_size=(2, 2), strides=(2, 2), padding='same'), name='MaxPool_1_MELSPECT')(y)\n",
        "        y = TimeDistributed(Dropout(0.2), name='Drop_1_MELSPECT')(y)\n",
        "\n",
        "        # Second LFLB (local feature learning block)\n",
        "        y = TimeDistributed(Conv2D(64, kernel_size=(3, 3), strides=(1, 1), padding='same'), name='Conv_2_MELSPECT')(y)\n",
        "        y = TimeDistributed(BatchNormalization(), name='BatchNorm_2_MELSPECT')(y)\n",
        "        y = TimeDistributed(Activation('elu'), name='Activ_2_MELSPECT')(y)\n",
        "        y = TimeDistributed(MaxPooling2D(pool_size=(4, 4), strides=(4, 4), padding='same'), name='MaxPool_2_MELSPECT')(y)\n",
        "        y = TimeDistributed(Dropout(0.2), name='Drop_2_MELSPECT')(y)\n",
        "\n",
        "        # Third LFLB (local feature learning block)\n",
        "        y = TimeDistributed(Conv2D(128, kernel_size=(3, 3), strides=(1, 1), padding='same'), name='Conv_3_MELSPECT')(y)\n",
        "        y = TimeDistributed(BatchNormalization(), name='BatchNorm_3_MELSPECT')(y)\n",
        "        y = TimeDistributed(Activation('elu'), name='Activ_3_MELSPECT')(y)\n",
        "        y = TimeDistributed(MaxPooling2D(pool_size=(4, 4), strides=(4, 4), padding='same'), name='MaxPool_3_MELSPECT')(y)\n",
        "        y = TimeDistributed(Dropout(0.2), name='Drop_3_MELSPECT')(y)\n",
        "\n",
        "        # Fourth LFLB (local feature learning block)\n",
        "        y = TimeDistributed(Conv2D(128, kernel_size=(3, 3), strides=(1, 1), padding='same'), name='Conv_4_MELSPECT')(y)\n",
        "        y = TimeDistributed(BatchNormalization(), name='BatchNorm_4_MELSPECT')(y)\n",
        "        y = TimeDistributed(Activation('elu'), name='Activ_4_MELSPECT')(y)\n",
        "        y = TimeDistributed(MaxPooling2D(pool_size=(4, 4), strides=(4, 4), padding='same'), name='MaxPool_4_MELSPECT')(y)\n",
        "        y = TimeDistributed(Dropout(0.2), name='Drop_4_MELSPECT')(y)\n",
        "\n",
        "        # Flat\n",
        "        y = TimeDistributed(Flatten(), name='Flat_MELSPECT')(y)\n",
        "\n",
        "        # LSTM layer\n",
        "        y = LSTM(256, return_sequences=False, dropout=0.2, name='LSTM_1')(y)\n",
        "\n",
        "        # Fully connected\n",
        "        y = Dense(7, activation='softmax', name='FC')(y)\n",
        "\n",
        "        # Build final model\n",
        "        model = Model(inputs=input_y, outputs=y)\n",
        "\n",
        "        return model\n",
        "\n",
        "\n",
        "\n",
        "    # Predict speech emotion over time\n",
        "    def predict_emotion_from_file(self, filename, chunk_step=16000, chunk_size=40000, predict_proba=False, sample_rate=16000):\n",
        "\n",
        "        # Read audio file\n",
        "        y, sr = librosa.core.load(filename, sr=sample_rate, offset=0.5)\n",
        "        # Split audio signals into chunks\n",
        "        chunks = self.frame(y.reshape(1, 1, -1), chunk_step, chunk_size)\n",
        "\n",
        "        # Reshape chunks\n",
        "        chunks = chunks.reshape(chunks.shape[1],chunks.shape[-1])\n",
        "\n",
        "        # Z-normalization\n",
        "        y = np.asarray(list(map(zscore, chunks)))\n",
        "\n",
        "        # Compute mel spectrogram\n",
        "        mel_spect = np.asarray(list(map(self.mel_spectrogram, y)))\n",
        "\n",
        "        # Time distributed Framing\n",
        "        mel_spect_ts = self.frame(mel_spect)\n",
        "\n",
        "        # Build X for time distributed CNN\n",
        "        X = mel_spect_ts.reshape(mel_spect_ts.shape[0],\n",
        "                                    mel_spect_ts.shape[1],\n",
        "                                    mel_spect_ts.shape[2],\n",
        "                                    mel_spect_ts.shape[3],\n",
        "                                    1)\n",
        "\n",
        "        # Predict emotion\n",
        "        if predict_proba is True:\n",
        "            predict = self._model.predict(X)\n",
        "        else:\n",
        "            predict = np.argmax(self._model.predict(X), axis=1)\n",
        "            predict = [self._emotion.get(emotion) for emotion in predict]\n",
        "\n",
        "\n",
        "        # Clear Keras session\n",
        "        K.clear_session()\n",
        "\n",
        "        # Predict timestamp\n",
        "        timestamp = np.concatenate([[chunk_size], np.ones((len(predict) - 1)) * chunk_step]).cumsum()\n",
        "        timestamp = np.round(timestamp / sample_rate)\n",
        "\n",
        "        return [predict, timestamp]\n",
        "\n",
        "\n",
        "\n",
        "    #Export emotions\n",
        "    def prediction_to_csv(self, predictions, filename, mode='w'):\n",
        "\n",
        "        # Write emotion in filename\n",
        "        with open(filename, mode) as f:\n",
        "            if mode == 'w':\n",
        "                f.write(\"EMOTIONS\"+'\\n')\n",
        "            for emotion in predictions:\n",
        "                f.write(str(emotion)+'\\n')\n",
        "            f.close()\n"
      ],
      "execution_count": 5,
      "outputs": []
    },
    {
      "cell_type": "markdown",
      "metadata": {
        "id": "rH55CbW6OP17"
      },
      "source": [
        "# Step 6. Load the function that checks which emotion was present the most"
      ]
    },
    {
      "cell_type": "code",
      "metadata": {
        "id": "wtOAJ1TpnYt9"
      },
      "source": [
        "from collections import Counter\n",
        "\n",
        " #Function that finds the most common occuring emotion\n",
        "def find_state_emotion(listOfEmotions):\n",
        "        \n",
        "  count = Counter(listOfEmotions)\n",
        "  max_val = max(count.values())\n",
        "  return sorted(key for key, value in count.items() if value == max_val)\n",
        "        "
      ],
      "execution_count": 6,
      "outputs": []
    },
    {
      "cell_type": "markdown",
      "metadata": {
        "id": "SVArIyVPOYGC"
      },
      "source": [
        "# Step 7. Run prediction on the loaded files"
      ]
    },
    {
      "cell_type": "code",
      "metadata": {
        "id": "Th1gbrXyn4mC",
        "colab": {
          "base_uri": "https://localhost:8080/"
        },
        "outputId": "c2e06622-0e8f-4bcd-fb1b-17d00653c9c5"
      },
      "source": [
        "import json\n",
        "import math\n",
        "from pydub import AudioSegment\n",
        "# Set model sub directory path\n",
        "model_sub_dir = os.path.join('models', 'audio.hdf5')\n",
        "emotion = {0:'Angry', 1:'Disgust', 2:'Fear', 3:'Happy', 4:'Neutral', 5:'Sad', 6:'Surprise'}\n",
        "\n",
        "# Initialize SER object\n",
        "SER = speechEmotionRecognition(model_sub_dir)\n",
        "\n",
        "# Create an empty segment emotion list to store emotions\n",
        "segmentEmoList = []\n",
        "\n",
        "# Create a list of timestamps\n",
        "timestampList = []\n",
        "timestampCounter = 3\n",
        "\n",
        "\n",
        "# Create an empty final emotion list for tracking emotions through segments\n",
        "finalEmoList = []\n",
        "\n",
        "# List of state flags\n",
        "stateFlagList = [0,0,0,0,0,0,0]\n",
        "\n",
        "# Create an emotion found flag to check if the final emotion was found or not\n",
        "isFirstStateFound = False\n",
        "isFirstStateEncountered = False\n",
        "\n",
        "# Create an empty string for final emotion\n",
        "finalEmotion = \"\"\n",
        "stateEmotion = \"\"\n",
        "\n",
        "# Set the name of the audio file\n",
        "#audio_file_name = os.path.join(\"data\",\"joined_sound_7.wav\")\n",
        "audio_file_name = uploaded_file_name\n",
        "\n",
        "# Sets the duration of audio\n",
        "audio_duration = math.floor(librosa.get_duration(filename=audio_file_name))\n",
        "\n",
        "# Pritns the duration of the audio\n",
        "print(\"The duration of audio is: \" +str(audio_duration))\n",
        "# Starting slice and end slice values\n",
        "n = 0\n",
        "nSpan = 3\n",
        "\n",
        "# List of sliced segments\n",
        "listOfSegNames = []\n",
        "\n",
        "for i in range(0, (audio_duration + 1) - nSpan):   \n",
        "    t1 = n * 1000\n",
        "    t2 = (n + nSpan) * 1000\n",
        "    \n",
        "    # Select audio file to segment\n",
        "    oldAudio = AudioSegment.from_wav(audio_file_name)\n",
        "\n",
        "    # Create a segment of 3 seconds from old audio file\n",
        "    newAudio = oldAudio[t1:t2]\n",
        "\n",
        "    # Save new segment name\n",
        "    seg_name = \"working/seg_\" + str(n) + \"_\" +str((n+nSpan)) +\".wav\"\n",
        "\n",
        "    # Append segment name to a list for later use\n",
        "    listOfSegNames.append(seg_name)\n",
        "    \n",
        "    # Export segment to its own individual file\n",
        "    newAudio.export(seg_name, format=\"wav\")\n",
        "\n",
        "    # Slide the selected second slider by one   \n",
        "    n += 1\n",
        "\n",
        "# Run prediction for each segment\n",
        "for k in range(0, len(listOfSegNames)):\n",
        "    # Select the segment from the list of saved segment names\n",
        "    rec_sub_dir = listOfSegNames[k]\n",
        "    \n",
        "    # Predict emotion in voice at each time step\n",
        "    step = 1 # in sec\n",
        "    sample_rate = 16000 # in kHz\n",
        "    emotions, timestamp = SER.predict_emotion_from_file(rec_sub_dir, chunk_step=step*sample_rate)\n",
        "\n",
        "    # Append emotion of the segment to a list\n",
        "    maxValEmo = max(set(emotions), key=emotions.count)\n",
        "    segmentEmoList.append(maxValEmo)\n",
        "\n",
        "    # Check states after the initial state\n",
        "    if isFirstStateFound == True:\n",
        "      timestampCounter += 1\n",
        "\n",
        "      # Determine the state of the emotion\n",
        "      stateEmotion = max(set(emotions), key=emotions.count)\n",
        "\n",
        "      # Find the index for the determined emotion\n",
        "      stateIndex = list(emotion.keys())[list(emotion.values()).index(stateEmotion)]\n",
        "\n",
        "      # Increment by 1 for the state that appears\n",
        "      stateFlagList[stateIndex] += 1\n",
        "\n",
        "      # Check if any of the states (Emotions) occurs 3 times\n",
        "      if stateFlagList[stateIndex] == 3:\n",
        "        # Get the emotion by the index\n",
        "        stateEmotion = emotion.get(stateIndex)\n",
        "\n",
        "        # Append the emotion to the final emotion list\n",
        "        finalEmoList.append([stateEmotion])\n",
        "\n",
        "        timestampList.append(timestampCounter)\n",
        "\n",
        "        # Reset the state (emotion) occurance list to zero\n",
        "        stateFlagList = [0,0,0,0,0,0,0]\n",
        "        timestampCounter = 0\n",
        "\n",
        "    # Set the initial state emotion\n",
        "    if len(segmentEmoList) > 2 and isFirstStateFound == False:\n",
        "      # Call function to determine emotion\n",
        "      firstState = find_state_emotion(segmentEmoList)\n",
        "      #print(firstState)\n",
        "      if len(firstState) == 1:\n",
        "        # Add the segment emotion to the list\n",
        "        finalEmoList.append(firstState)\n",
        "        timestampCounter += 2\n",
        "        timestampList.append(timestampCounter)\n",
        "        timestampCounter = 0\n",
        "        isFirstStateFound = True\n",
        "      else:\n",
        "        timestampCounter += 1\n",
        "      \n",
        "\n",
        "# Prints for debugging\n",
        "print(segmentEmoList)\n",
        "print(timestampList)\n",
        "\n",
        "if sum(timestampList) != audio_duration:\n",
        "  timestampList[-1] = timestampList[-1] + (audio_duration - sum(timestampList))\n",
        "\n",
        "print(timestampList)\n",
        "# Create an empty list to store unhashedList\n",
        "unhashedList = []\n",
        "\n",
        "# Unhashes a list for readability\n",
        "for item in finalEmoList:\n",
        "  unhashedList.append(item[0])\n",
        "\n",
        "# Check if there is a majority for the segments\n",
        "print(unhashedList)\n",
        "return_emotion = find_state_emotion(unhashedList)\n",
        "print(return_emotion)\n",
        "\n",
        "# If there is no majority therefore the emotion is neutral\n",
        "if len(return_emotion) != 1:\n",
        "  print(\"Majority doesn't win\")\n",
        "  print(\"The emotion is: Neutral\")\n",
        "else:\n",
        "  # If there is a majority then print the emotion\n",
        "  print(\"Majority wins\")\n",
        "  print(\"The emotion is: \" + str(return_emotion[0]))\n",
        "  del timestampList[:]\n",
        "  timestampList.append(audio_duration)\n",
        "\n",
        "# Code for removing the segments\n",
        "for segment in listOfSegNames:\n",
        "  !rm $segment\n",
        "print(\"Previous segments removed\")\n"
      ],
      "execution_count": 60,
      "outputs": [
        {
          "output_type": "stream",
          "text": [
            "The duration of audio is: 52\n",
            "['Sad', 'Disgust', 'Disgust', 'Neutral', 'Angry', 'Angry', 'Disgust', 'Disgust', 'Disgust', 'Disgust', 'Happy', 'Disgust', 'Disgust', 'Disgust', 'Disgust', 'Disgust', 'Disgust', 'Disgust', 'Neutral', 'Disgust', 'Disgust', 'Disgust', 'Disgust', 'Happy', 'Disgust', 'Disgust', 'Disgust', 'Happy', 'Disgust', 'Angry', 'Disgust', 'Disgust', 'Disgust', 'Disgust', 'Disgust', 'Disgust', 'Disgust', 'Disgust', 'Disgust', 'Disgust', 'Disgust', 'Angry', 'Disgust', 'Disgust', 'Disgust', 'Disgust', 'Disgust', 'Neutral', 'Disgust', 'Disgust']\n",
            "[5, 6, 4, 3, 4, 3, 4, 5, 3, 3, 3, 4, 4]\n",
            "[5, 6, 4, 3, 4, 3, 4, 5, 3, 3, 3, 4, 5]\n",
            "['Disgust', 'Disgust', 'Disgust', 'Disgust', 'Disgust', 'Disgust', 'Disgust', 'Disgust', 'Disgust', 'Disgust', 'Disgust', 'Disgust', 'Disgust']\n",
            "['Disgust']\n",
            "Majority wins\n",
            "The emotion is: Disgust\n",
            "Previous segments removed\n"
          ],
          "name": "stdout"
        }
      ]
    },
    {
      "cell_type": "code",
      "metadata": {
        "id": "HYhKIUXQ8m6-",
        "outputId": "fe6e54a1-6462-41fa-e6e8-d58e015bd6c5",
        "colab": {
          "base_uri": "https://localhost:8080/",
          "height": 429
        }
      },
      "source": [
        "import pandas as pd\n",
        "import matplotlib.pyplot as plt\n",
        "\n",
        "colorDict = {'Angry':\"#ff5954\",'Disgust':\"#6eff69\", 'Fear':\"#b152ff\", 'Happy': '#fff673', 'Neutral':'#ccccc8', 'Sad':'#5c8dff', 'Surprise':'#ffb663'}\n",
        "colorList = []\n",
        "\n",
        "df = pd.DataFrame({}, index=[0])\n",
        "counter = 0\n",
        "for item in segmentEmoList:\n",
        "  df.insert(counter, item, 1, True)\n",
        "  counter += 1\n",
        "  colorList.append(colorDict.get(item))\n",
        "\n",
        "ax = df.plot.barh(stacked=True, color=colorList)\n",
        "\n",
        "\n",
        "ax.figure.set_size_inches(25,6)\n",
        "ax.set_xlabel('Time (in sec)', fontsize=18)\n",
        "ax.set_ylabel('States', fontsize=18)\n",
        "ax.set_yticklabels([])\n",
        "\n",
        "handles, labels = ax.get_legend_handles_labels()\n",
        "by_label = dict(zip(labels, handles))\n",
        "\n",
        "ax.set_title(audio_file_name)\n",
        "ax.legend(by_label.values(), by_label.keys())"
      ],
      "execution_count": 61,
      "outputs": [
        {
          "output_type": "execute_result",
          "data": {
            "text/plain": [
              "<matplotlib.legend.Legend at 0x7f4b514cc4d0>"
            ]
          },
          "metadata": {
            "tags": []
          },
          "execution_count": 61
        },
        {
          "output_type": "display_data",
          "data": {
            "image/png": "[encoded data removed]",
            "text/plain": [
              "<Figure size 1800x432 with 1 Axes>"
            ]
          },
          "metadata": {
            "tags": [],
            "needs_background": "light"
          }
        }
      ]
    },
    {
      "cell_type": "code",
      "metadata": {
        "id": "xw2vpcfU0udk",
        "colab": {
          "base_uri": "https://localhost:8080/",
          "height": 429
        },
        "outputId": "bcbaddf2-7848-4644-89e5-6315aa6d1c0a"
      },
      "source": [
        "import pandas as pd\n",
        "import matplotlib.pyplot as plt\n",
        "\n",
        "colorDict = {'Angry':\"#ff5954\",'Disgust':\"#6eff69\", 'Fear':\"#b152ff\", 'Happy': '#fff673', 'Neutral':'#ccccc8', 'Sad':'#5c8dff', 'Surprise':'#ffb663'}\n",
        "colorList = []\n",
        "\n",
        "df = pd.DataFrame({}, index=[0])\n",
        "counter = 0\n",
        "\n",
        "if len(unhashedList) == len(timestampList):\n",
        "  for index in unhashedList:\n",
        "    df.insert(counter, index, timestampList[counter], True)\n",
        "    counter += 1\n",
        "    colorList.append(colorDict.get(index))\n",
        "else:\n",
        "  df.insert(0, return_emotion[0], timestampList[0], True)\n",
        "  colorList.append(colorDict.get(return_emotion[0]))\n",
        "\n",
        "ax = df.plot.barh(stacked=True, color=colorList)\n",
        "\n",
        "\n",
        "ax.figure.set_size_inches(25,6)\n",
        "ax.set_xlabel('Time (in sec)', fontsize=18)\n",
        "ax.set_ylabel('States', fontsize=18)\n",
        "ax.set_yticklabels([])\n",
        "\n",
        "handles, labels = ax.get_legend_handles_labels()\n",
        "by_label = dict(zip(labels, handles))\n",
        "\n",
        "ax.set_title(audio_file_name)\n",
        "ax.legend(by_label.values(), by_label.keys())"
      ],
      "execution_count": 55,
      "outputs": [
        {
          "output_type": "execute_result",
          "data": {
            "text/plain": [
              "<matplotlib.legend.Legend at 0x7f4bb2a60ed0>"
            ]
          },
          "metadata": {
            "tags": []
          },
          "execution_count": 55
        },
        {
          "output_type": "display_data",
          "data": {
            "image/png": "[encoded data removed]",
            "text/plain": [
              "<Figure size 1800x432 with 1 Axes>"
            ]
          },
          "metadata": {
            "tags": [],
            "needs_background": "light"
          }
        }
      ]
    },
    {
      "cell_type": "code",
      "metadata": {
        "id": "Xf9tSp7j76Ac",
        "colab": {
          "base_uri": "https://localhost:8080/",
          "height": 299
        },
        "outputId": "0c5678ee-d630-496a-97d6-79caaae1ebac"
      },
      "source": [
        "# Metrics\n",
        "\n",
        "segmentEmoDuration = {'Angry':0,'Disgust':0, 'Fear':0, 'Happy': 0, 'Neutral':0, 'Sad':0, 'Surprise':0}\n",
        "\n",
        "counter = audio_duration\n",
        "labels = []\n",
        "sizes = []\n",
        "\n",
        "\n",
        "for item in unhashedDict:\n",
        "  if item in segmentEmoDuration:\n",
        "    segmentEmoDuration[item] = unhashedDict.get(item)\n",
        "\n",
        "for emotion in segmentEmoDuration:\n",
        "  if segmentEmoDuration.get(emotion) > 0:\n",
        "    accuracy = (segmentEmoDuration.get(emotion) / counter) * 100\n",
        "    labels.append(emotion)\n",
        "    sizes.append(accuracy)\n",
        "    print(\"Accuracy of \" +emotion +\": \" +str(accuracy) +\"%\")\n",
        "\n",
        "fig2, ax2 = plt.subplots()\n",
        "ax2.pie(sizes, labels=labels, autopct='%1.1f%%', shadow=True, startangle=90)\n",
        "ax2.axis('equal')\n",
        "plt.show()"
      ],
      "execution_count": null,
      "outputs": [
        {
          "output_type": "stream",
          "text": [
            "Accuracy of Angry: 35.294117647058826%\n",
            "Accuracy of Fear: 41.17647058823529%\n",
            "Accuracy of Happy: 23.52941176470588%\n"
          ],
          "name": "stdout"
        },
        {
          "output_type": "display_data",
          "data": {
            "image/png": "[encoded data removed]",
            "text/plain": [
              "<Figure size 432x288 with 1 Axes>"
            ]
          },
          "metadata": {
            "tags": []
          }
        }
      ]
    },
    {
      "cell_type": "code",
      "metadata": {
        "id": "O0Xa5Vbb8kbJ"
      },
      "source": [
        ""
      ],
      "execution_count": null,
      "outputs": []
    }
  ]
}